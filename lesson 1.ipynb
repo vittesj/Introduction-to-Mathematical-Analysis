{
 "cells": [
  {
   "cell_type": "markdown",
   "id": "4d06eea0",
   "metadata": {},
   "source": [
    "Тема “Множество”\n",
    "1. Даны три множества a,b и с. Необходимо выполнить все изученные виды бинарных\n",
    "операций над всеми комбинациями множеств."
   ]
  },
  {
   "cell_type": "code",
   "execution_count": 1,
   "id": "b522a7a2",
   "metadata": {},
   "outputs": [
    {
     "name": "stdout",
     "output_type": "stream",
     "text": [
      "{'2', '1', '3'}\n",
      "{'4', '5', '6'}\n",
      "{'8', '7', '9'}\n"
     ]
    }
   ],
   "source": [
    "a = set('123')\n",
    "print(a)\n",
    "b = set('456')\n",
    "print(b)\n",
    "c = set('789')\n",
    "print(c)"
   ]
  },
  {
   "cell_type": "code",
   "execution_count": 4,
   "id": "a7a4eb43",
   "metadata": {},
   "outputs": [
    {
     "name": "stdout",
     "output_type": "stream",
     "text": [
      "{'4', '5', '1', '2', '6', '3'} {'7', '9', '8', '1', '2', '3'} {'7', '9', '8', '4', '5', '6'}\n",
      "set() set() set()\n",
      "{'1', '2', '3'} {'1', '2', '3'} {'4', '5', '6'}\n",
      "{'4', '1', '2', '3', '5', '6'} {'9', '8', '1', '2', '3', '7'} {'9', '4', '8', '7', '5', '6'}\n"
     ]
    }
   ],
   "source": [
    "print(a | b, a | c, b | c)\n",
    "print(a & b, a & c, b & c)\n",
    "print(a - b, a - c, b - c)\n",
    "print(a ^ b, a ^ c, b ^ c)"
   ]
  },
  {
   "cell_type": "code",
   "execution_count": null,
   "id": "19e89d88",
   "metadata": {},
   "outputs": [],
   "source": []
  }
 ],
 "metadata": {
  "kernelspec": {
   "display_name": "Python 3",
   "language": "python",
   "name": "python3"
  },
  "language_info": {
   "codemirror_mode": {
    "name": "ipython",
    "version": 3
   },
   "file_extension": ".py",
   "mimetype": "text/x-python",
   "name": "python",
   "nbconvert_exporter": "python",
   "pygments_lexer": "ipython3",
   "version": "3.8.8"
  }
 },
 "nbformat": 4,
 "nbformat_minor": 5
}
